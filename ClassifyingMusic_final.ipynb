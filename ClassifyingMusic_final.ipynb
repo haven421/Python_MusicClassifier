{
 "cells": [
  {
   "cell_type": "markdown",
   "metadata": {},
   "source": [
    "**Prep Data**"
   ]
  },
  {
   "cell_type": "code",
   "execution_count": 37,
   "metadata": {},
   "outputs": [],
   "source": [
    "import pandas as pd\n",
    "import matplotlib.pyplot as plt\n",
    "import numpy as np\n",
    "\n",
    "from sklearn.preprocessing import StandardScaler\n",
    "from sklearn.decomposition import PCA\n",
    "from sklearn.model_selection import train_test_split\n",
    "from sklearn.tree import DecisionTreeClassifier\n",
    "from sklearn.linear_model import LogisticRegression\n",
    "from sklearn.metrics import classification_report\n",
    "from sklearn.model_selection import KFold, cross_val_score\n",
    "\n",
    "%matplotlib inline"
   ]
  },
  {
   "cell_type": "code",
   "execution_count": 27,
   "metadata": {
    "collapsed": true
   },
   "outputs": [
    {
     "name": "stdout",
     "output_type": "stream",
     "text": [
      "<class 'pandas.core.frame.DataFrame'>\n",
      "RangeIndex: 17734 entries, 0 to 17733\n",
      "Data columns (total 21 columns):\n",
      " #   Column         Non-Null Count  Dtype \n",
      "---  ------         --------------  ----- \n",
      " 0   track_id       17734 non-null  int64 \n",
      " 1   bit_rate       17734 non-null  int64 \n",
      " 2   comments       17734 non-null  int64 \n",
      " 3   composer       166 non-null    object\n",
      " 4   date_created   17734 non-null  object\n",
      " 5   date_recorded  1898 non-null   object\n",
      " 6   duration       17734 non-null  int64 \n",
      " 7   favorites      17734 non-null  int64 \n",
      " 8   genre_top      17734 non-null  object\n",
      " 9   genres         17734 non-null  object\n",
      " 10  genres_all     17734 non-null  object\n",
      " 11  information    482 non-null    object\n",
      " 12  interest       17734 non-null  int64 \n",
      " 13  language_code  4089 non-null   object\n",
      " 14  license        17714 non-null  object\n",
      " 15  listens        17734 non-null  int64 \n",
      " 16  lyricist       53 non-null     object\n",
      " 17  number         17734 non-null  int64 \n",
      " 18  publisher      52 non-null     object\n",
      " 19  tags           17734 non-null  object\n",
      " 20  title          17734 non-null  object\n",
      "dtypes: int64(8), object(13)\n",
      "memory usage: 2.8+ MB\n"
     ]
    }
   ],
   "source": [
    "# read in metadata w genre labels\n",
    "\n",
    "tracks = pd.read_csv('fma-rock-vs-hiphop.csv')\n",
    "tracks.info()"
   ]
  },
  {
   "cell_type": "code",
   "execution_count": 28,
   "metadata": {
    "collapsed": true
   },
   "outputs": [
    {
     "name": "stdout",
     "output_type": "stream",
     "text": [
      "<class 'pandas.core.frame.DataFrame'>\n",
      "Int64Index: 13129 entries, 0 to 13128\n",
      "Data columns (total 9 columns):\n",
      " #   Column            Non-Null Count  Dtype  \n",
      "---  ------            --------------  -----  \n",
      " 0   track_id          13129 non-null  int64  \n",
      " 1   acousticness      13129 non-null  float64\n",
      " 2   danceability      13129 non-null  float64\n",
      " 3   energy            13129 non-null  float64\n",
      " 4   instrumentalness  13129 non-null  float64\n",
      " 5   liveness          13129 non-null  float64\n",
      " 6   speechiness       13129 non-null  float64\n",
      " 7   tempo             13129 non-null  float64\n",
      " 8   valence           13129 non-null  float64\n",
      "dtypes: float64(8), int64(1)\n",
      "memory usage: 1.0 MB\n"
     ]
    }
   ],
   "source": [
    "# read in metadata with metrics for features\n",
    "\n",
    "trackmetrics = pd.read_json('echonest-metrics.json', precise_float=True)\n",
    "trackmetrics.info()"
   ]
  },
  {
   "cell_type": "code",
   "execution_count": 29,
   "metadata": {
    "collapsed": true
   },
   "outputs": [
    {
     "name": "stdout",
     "output_type": "stream",
     "text": [
      "<class 'pandas.core.frame.DataFrame'>\n",
      "Int64Index: 4802 entries, 0 to 4801\n",
      "Data columns (total 10 columns):\n",
      " #   Column            Non-Null Count  Dtype  \n",
      "---  ------            --------------  -----  \n",
      " 0   track_id          4802 non-null   int64  \n",
      " 1   acousticness      4802 non-null   float64\n",
      " 2   danceability      4802 non-null   float64\n",
      " 3   energy            4802 non-null   float64\n",
      " 4   instrumentalness  4802 non-null   float64\n",
      " 5   liveness          4802 non-null   float64\n",
      " 6   speechiness       4802 non-null   float64\n",
      " 7   tempo             4802 non-null   float64\n",
      " 8   valence           4802 non-null   float64\n",
      " 9   genre_top         4802 non-null   object \n",
      "dtypes: float64(8), int64(1), object(1)\n",
      "memory usage: 412.7+ KB\n"
     ]
    }
   ],
   "source": [
    "# merge relevant (corresponding) cols from both files\n",
    "# merges on trackmetrics & adds genre_top from tracks\n",
    "\n",
    "echotracks = trackmetrics.merge(tracks[['track_id', 'genre_top']], on='track_id')\n",
    "echotracks.info()"
   ]
  },
  {
   "cell_type": "markdown",
   "metadata": {},
   "source": [
    "**Exploring Pairwise Relationships Between Continuous Variables**"
   ]
  },
  {
   "cell_type": "code",
   "execution_count": 30,
   "metadata": {
    "collapsed": true
   },
   "outputs": [
    {
     "data": {
      "text/html": [
       "<style  type=\"text/css\" >\n",
       "    #T_836fd8f6_c101_11ec_88ed_f01dbc950f68row0_col0 {\n",
       "            background-color:  #023858;\n",
       "            color:  #f1f1f1;\n",
       "        }    #T_836fd8f6_c101_11ec_88ed_f01dbc950f68row0_col1 {\n",
       "            background-color:  #fff7fb;\n",
       "            color:  #000000;\n",
       "        }    #T_836fd8f6_c101_11ec_88ed_f01dbc950f68row0_col2 {\n",
       "            background-color:  #d2d2e7;\n",
       "            color:  #000000;\n",
       "        }    #T_836fd8f6_c101_11ec_88ed_f01dbc950f68row0_col3 {\n",
       "            background-color:  #b5c4df;\n",
       "            color:  #000000;\n",
       "        }    #T_836fd8f6_c101_11ec_88ed_f01dbc950f68row0_col4 {\n",
       "            background-color:  #f5eef6;\n",
       "            color:  #000000;\n",
       "        }    #T_836fd8f6_c101_11ec_88ed_f01dbc950f68row0_col5 {\n",
       "            background-color:  #e9e5f1;\n",
       "            color:  #000000;\n",
       "        }    #T_836fd8f6_c101_11ec_88ed_f01dbc950f68row0_col6 {\n",
       "            background-color:  #d1d2e6;\n",
       "            color:  #000000;\n",
       "        }    #T_836fd8f6_c101_11ec_88ed_f01dbc950f68row0_col7 {\n",
       "            background-color:  #e1dfed;\n",
       "            color:  #000000;\n",
       "        }    #T_836fd8f6_c101_11ec_88ed_f01dbc950f68row0_col8 {\n",
       "            background-color:  #dedcec;\n",
       "            color:  #000000;\n",
       "        }    #T_836fd8f6_c101_11ec_88ed_f01dbc950f68row1_col0 {\n",
       "            background-color:  #fff7fb;\n",
       "            color:  #000000;\n",
       "        }    #T_836fd8f6_c101_11ec_88ed_f01dbc950f68row1_col1 {\n",
       "            background-color:  #023858;\n",
       "            color:  #f1f1f1;\n",
       "        }    #T_836fd8f6_c101_11ec_88ed_f01dbc950f68row1_col2 {\n",
       "            background-color:  #e0dded;\n",
       "            color:  #000000;\n",
       "        }    #T_836fd8f6_c101_11ec_88ed_f01dbc950f68row1_col3 {\n",
       "            background-color:  #fff7fb;\n",
       "            color:  #000000;\n",
       "        }    #T_836fd8f6_c101_11ec_88ed_f01dbc950f68row1_col4 {\n",
       "            background-color:  #97b7d7;\n",
       "            color:  #000000;\n",
       "        }    #T_836fd8f6_c101_11ec_88ed_f01dbc950f68row1_col5 {\n",
       "            background-color:  #f3edf5;\n",
       "            color:  #000000;\n",
       "        }    #T_836fd8f6_c101_11ec_88ed_f01dbc950f68row1_col6 {\n",
       "            background-color:  #b8c6e0;\n",
       "            color:  #000000;\n",
       "        }    #T_836fd8f6_c101_11ec_88ed_f01dbc950f68row1_col7 {\n",
       "            background-color:  #e1dfed;\n",
       "            color:  #000000;\n",
       "        }    #T_836fd8f6_c101_11ec_88ed_f01dbc950f68row1_col8 {\n",
       "            background-color:  #e2dfee;\n",
       "            color:  #000000;\n",
       "        }    #T_836fd8f6_c101_11ec_88ed_f01dbc950f68row2_col0 {\n",
       "            background-color:  #bdc8e1;\n",
       "            color:  #000000;\n",
       "        }    #T_836fd8f6_c101_11ec_88ed_f01dbc950f68row2_col1 {\n",
       "            background-color:  #d0d1e6;\n",
       "            color:  #000000;\n",
       "        }    #T_836fd8f6_c101_11ec_88ed_f01dbc950f68row2_col2 {\n",
       "            background-color:  #023858;\n",
       "            color:  #f1f1f1;\n",
       "        }    #T_836fd8f6_c101_11ec_88ed_f01dbc950f68row2_col3 {\n",
       "            background-color:  #fbf3f9;\n",
       "            color:  #000000;\n",
       "        }    #T_836fd8f6_c101_11ec_88ed_f01dbc950f68row2_col4 {\n",
       "            background-color:  #f3edf5;\n",
       "            color:  #000000;\n",
       "        }    #T_836fd8f6_c101_11ec_88ed_f01dbc950f68row2_col5 {\n",
       "            background-color:  #fff7fb;\n",
       "            color:  #000000;\n",
       "        }    #T_836fd8f6_c101_11ec_88ed_f01dbc950f68row2_col6 {\n",
       "            background-color:  #80aed2;\n",
       "            color:  #000000;\n",
       "        }    #T_836fd8f6_c101_11ec_88ed_f01dbc950f68row2_col7 {\n",
       "            background-color:  #fff7fb;\n",
       "            color:  #000000;\n",
       "        }    #T_836fd8f6_c101_11ec_88ed_f01dbc950f68row2_col8 {\n",
       "            background-color:  #529bc7;\n",
       "            color:  #000000;\n",
       "        }    #T_836fd8f6_c101_11ec_88ed_f01dbc950f68row3_col0 {\n",
       "            background-color:  #a7bddb;\n",
       "            color:  #000000;\n",
       "        }    #T_836fd8f6_c101_11ec_88ed_f01dbc950f68row3_col1 {\n",
       "            background-color:  #f5eff6;\n",
       "            color:  #000000;\n",
       "        }    #T_836fd8f6_c101_11ec_88ed_f01dbc950f68row3_col2 {\n",
       "            background-color:  #fef6fa;\n",
       "            color:  #000000;\n",
       "        }    #T_836fd8f6_c101_11ec_88ed_f01dbc950f68row3_col3 {\n",
       "            background-color:  #023858;\n",
       "            color:  #f1f1f1;\n",
       "        }    #T_836fd8f6_c101_11ec_88ed_f01dbc950f68row3_col4 {\n",
       "            background-color:  #c4cbe3;\n",
       "            color:  #000000;\n",
       "        }    #T_836fd8f6_c101_11ec_88ed_f01dbc950f68row3_col5 {\n",
       "            background-color:  #dcdaeb;\n",
       "            color:  #000000;\n",
       "        }    #T_836fd8f6_c101_11ec_88ed_f01dbc950f68row3_col6 {\n",
       "            background-color:  #dedcec;\n",
       "            color:  #000000;\n",
       "        }    #T_836fd8f6_c101_11ec_88ed_f01dbc950f68row3_col7 {\n",
       "            background-color:  #adc1dd;\n",
       "            color:  #000000;\n",
       "        }    #T_836fd8f6_c101_11ec_88ed_f01dbc950f68row3_col8 {\n",
       "            background-color:  #d9d8ea;\n",
       "            color:  #000000;\n",
       "        }    #T_836fd8f6_c101_11ec_88ed_f01dbc950f68row4_col0 {\n",
       "            background-color:  #f4eef6;\n",
       "            color:  #000000;\n",
       "        }    #T_836fd8f6_c101_11ec_88ed_f01dbc950f68row4_col1 {\n",
       "            background-color:  #97b7d7;\n",
       "            color:  #000000;\n",
       "        }    #T_836fd8f6_c101_11ec_88ed_f01dbc950f68row4_col2 {\n",
       "            background-color:  #fff7fb;\n",
       "            color:  #000000;\n",
       "        }    #T_836fd8f6_c101_11ec_88ed_f01dbc950f68row4_col3 {\n",
       "            background-color:  #d2d3e7;\n",
       "            color:  #000000;\n",
       "        }    #T_836fd8f6_c101_11ec_88ed_f01dbc950f68row4_col4 {\n",
       "            background-color:  #023858;\n",
       "            color:  #f1f1f1;\n",
       "        }    #T_836fd8f6_c101_11ec_88ed_f01dbc950f68row4_col5 {\n",
       "            background-color:  #fdf5fa;\n",
       "            color:  #000000;\n",
       "        }    #T_836fd8f6_c101_11ec_88ed_f01dbc950f68row4_col6 {\n",
       "            background-color:  #fff7fb;\n",
       "            color:  #000000;\n",
       "        }    #T_836fd8f6_c101_11ec_88ed_f01dbc950f68row4_col7 {\n",
       "            background-color:  #d9d8ea;\n",
       "            color:  #000000;\n",
       "        }    #T_836fd8f6_c101_11ec_88ed_f01dbc950f68row4_col8 {\n",
       "            background-color:  #fff7fb;\n",
       "            color:  #000000;\n",
       "        }    #T_836fd8f6_c101_11ec_88ed_f01dbc950f68row5_col0 {\n",
       "            background-color:  #bdc8e1;\n",
       "            color:  #000000;\n",
       "        }    #T_836fd8f6_c101_11ec_88ed_f01dbc950f68row5_col1 {\n",
       "            background-color:  #ced0e6;\n",
       "            color:  #000000;\n",
       "        }    #T_836fd8f6_c101_11ec_88ed_f01dbc950f68row5_col2 {\n",
       "            background-color:  #ede8f3;\n",
       "            color:  #000000;\n",
       "        }    #T_836fd8f6_c101_11ec_88ed_f01dbc950f68row5_col3 {\n",
       "            background-color:  #bdc8e1;\n",
       "            color:  #000000;\n",
       "        }    #T_836fd8f6_c101_11ec_88ed_f01dbc950f68row5_col4 {\n",
       "            background-color:  #dbdaeb;\n",
       "            color:  #000000;\n",
       "        }    #T_836fd8f6_c101_11ec_88ed_f01dbc950f68row5_col5 {\n",
       "            background-color:  #023858;\n",
       "            color:  #f1f1f1;\n",
       "        }    #T_836fd8f6_c101_11ec_88ed_f01dbc950f68row5_col6 {\n",
       "            background-color:  #c0c9e2;\n",
       "            color:  #000000;\n",
       "        }    #T_836fd8f6_c101_11ec_88ed_f01dbc950f68row5_col7 {\n",
       "            background-color:  #dcdaeb;\n",
       "            color:  #000000;\n",
       "        }    #T_836fd8f6_c101_11ec_88ed_f01dbc950f68row5_col8 {\n",
       "            background-color:  #e8e4f0;\n",
       "            color:  #000000;\n",
       "        }    #T_836fd8f6_c101_11ec_88ed_f01dbc950f68row6_col0 {\n",
       "            background-color:  #d0d1e6;\n",
       "            color:  #000000;\n",
       "        }    #T_836fd8f6_c101_11ec_88ed_f01dbc950f68row6_col1 {\n",
       "            background-color:  #b8c6e0;\n",
       "            color:  #000000;\n",
       "        }    #T_836fd8f6_c101_11ec_88ed_f01dbc950f68row6_col2 {\n",
       "            background-color:  #93b5d6;\n",
       "            color:  #000000;\n",
       "        }    #T_836fd8f6_c101_11ec_88ed_f01dbc950f68row6_col3 {\n",
       "            background-color:  #eae6f1;\n",
       "            color:  #000000;\n",
       "        }    #T_836fd8f6_c101_11ec_88ed_f01dbc950f68row6_col4 {\n",
       "            background-color:  #fff7fb;\n",
       "            color:  #000000;\n",
       "        }    #T_836fd8f6_c101_11ec_88ed_f01dbc950f68row6_col5 {\n",
       "            background-color:  #eae6f1;\n",
       "            color:  #000000;\n",
       "        }    #T_836fd8f6_c101_11ec_88ed_f01dbc950f68row6_col6 {\n",
       "            background-color:  #023858;\n",
       "            color:  #f1f1f1;\n",
       "        }    #T_836fd8f6_c101_11ec_88ed_f01dbc950f68row6_col7 {\n",
       "            background-color:  #dbdaeb;\n",
       "            color:  #000000;\n",
       "        }    #T_836fd8f6_c101_11ec_88ed_f01dbc950f68row6_col8 {\n",
       "            background-color:  #bfc9e1;\n",
       "            color:  #000000;\n",
       "        }    #T_836fd8f6_c101_11ec_88ed_f01dbc950f68row7_col0 {\n",
       "            background-color:  #d0d1e6;\n",
       "            color:  #000000;\n",
       "        }    #T_836fd8f6_c101_11ec_88ed_f01dbc950f68row7_col1 {\n",
       "            background-color:  #d0d1e6;\n",
       "            color:  #000000;\n",
       "        }    #T_836fd8f6_c101_11ec_88ed_f01dbc950f68row7_col2 {\n",
       "            background-color:  #fef6fa;\n",
       "            color:  #000000;\n",
       "        }    #T_836fd8f6_c101_11ec_88ed_f01dbc950f68row7_col3 {\n",
       "            background-color:  #a7bddb;\n",
       "            color:  #000000;\n",
       "        }    #T_836fd8f6_c101_11ec_88ed_f01dbc950f68row7_col4 {\n",
       "            background-color:  #c5cce3;\n",
       "            color:  #000000;\n",
       "        }    #T_836fd8f6_c101_11ec_88ed_f01dbc950f68row7_col5 {\n",
       "            background-color:  #f0eaf4;\n",
       "            color:  #000000;\n",
       "        }    #T_836fd8f6_c101_11ec_88ed_f01dbc950f68row7_col6 {\n",
       "            background-color:  #c8cde4;\n",
       "            color:  #000000;\n",
       "        }    #T_836fd8f6_c101_11ec_88ed_f01dbc950f68row7_col7 {\n",
       "            background-color:  #023858;\n",
       "            color:  #f1f1f1;\n",
       "        }    #T_836fd8f6_c101_11ec_88ed_f01dbc950f68row7_col8 {\n",
       "            background-color:  #d6d6e9;\n",
       "            color:  #000000;\n",
       "        }    #T_836fd8f6_c101_11ec_88ed_f01dbc950f68row8_col0 {\n",
       "            background-color:  #c6cce3;\n",
       "            color:  #000000;\n",
       "        }    #T_836fd8f6_c101_11ec_88ed_f01dbc950f68row8_col1 {\n",
       "            background-color:  #cdd0e5;\n",
       "            color:  #000000;\n",
       "        }    #T_836fd8f6_c101_11ec_88ed_f01dbc950f68row8_col2 {\n",
       "            background-color:  #4c99c5;\n",
       "            color:  #000000;\n",
       "        }    #T_836fd8f6_c101_11ec_88ed_f01dbc950f68row8_col3 {\n",
       "            background-color:  #d1d2e6;\n",
       "            color:  #000000;\n",
       "        }    #T_836fd8f6_c101_11ec_88ed_f01dbc950f68row8_col4 {\n",
       "            background-color:  #efe9f3;\n",
       "            color:  #000000;\n",
       "        }    #T_836fd8f6_c101_11ec_88ed_f01dbc950f68row8_col5 {\n",
       "            background-color:  #f7f0f7;\n",
       "            color:  #000000;\n",
       "        }    #T_836fd8f6_c101_11ec_88ed_f01dbc950f68row8_col6 {\n",
       "            background-color:  #a5bddb;\n",
       "            color:  #000000;\n",
       "        }    #T_836fd8f6_c101_11ec_88ed_f01dbc950f68row8_col7 {\n",
       "            background-color:  #d3d4e7;\n",
       "            color:  #000000;\n",
       "        }    #T_836fd8f6_c101_11ec_88ed_f01dbc950f68row8_col8 {\n",
       "            background-color:  #023858;\n",
       "            color:  #f1f1f1;\n",
       "        }</style><table id=\"T_836fd8f6_c101_11ec_88ed_f01dbc950f68\" ><thead>    <tr>        <th class=\"blank level0\" ></th>        <th class=\"col_heading level0 col0\" >track_id</th>        <th class=\"col_heading level0 col1\" >acousticness</th>        <th class=\"col_heading level0 col2\" >danceability</th>        <th class=\"col_heading level0 col3\" >energy</th>        <th class=\"col_heading level0 col4\" >instrumentalness</th>        <th class=\"col_heading level0 col5\" >liveness</th>        <th class=\"col_heading level0 col6\" >speechiness</th>        <th class=\"col_heading level0 col7\" >tempo</th>        <th class=\"col_heading level0 col8\" >valence</th>    </tr></thead><tbody>\n",
       "                <tr>\n",
       "                        <th id=\"T_836fd8f6_c101_11ec_88ed_f01dbc950f68level0_row0\" class=\"row_heading level0 row0\" >track_id</th>\n",
       "                        <td id=\"T_836fd8f6_c101_11ec_88ed_f01dbc950f68row0_col0\" class=\"data row0 col0\" >1.000000</td>\n",
       "                        <td id=\"T_836fd8f6_c101_11ec_88ed_f01dbc950f68row0_col1\" class=\"data row0 col1\" >-0.372282</td>\n",
       "                        <td id=\"T_836fd8f6_c101_11ec_88ed_f01dbc950f68row0_col2\" class=\"data row0 col2\" >0.049454</td>\n",
       "                        <td id=\"T_836fd8f6_c101_11ec_88ed_f01dbc950f68row0_col3\" class=\"data row0 col3\" >0.140703</td>\n",
       "                        <td id=\"T_836fd8f6_c101_11ec_88ed_f01dbc950f68row0_col4\" class=\"data row0 col4\" >-0.275623</td>\n",
       "                        <td id=\"T_836fd8f6_c101_11ec_88ed_f01dbc950f68row0_col5\" class=\"data row0 col5\" >0.048231</td>\n",
       "                        <td id=\"T_836fd8f6_c101_11ec_88ed_f01dbc950f68row0_col6\" class=\"data row0 col6\" >-0.026995</td>\n",
       "                        <td id=\"T_836fd8f6_c101_11ec_88ed_f01dbc950f68row0_col7\" class=\"data row0 col7\" >-0.025392</td>\n",
       "                        <td id=\"T_836fd8f6_c101_11ec_88ed_f01dbc950f68row0_col8\" class=\"data row0 col8\" >0.010070</td>\n",
       "            </tr>\n",
       "            <tr>\n",
       "                        <th id=\"T_836fd8f6_c101_11ec_88ed_f01dbc950f68level0_row1\" class=\"row_heading level0 row1\" >acousticness</th>\n",
       "                        <td id=\"T_836fd8f6_c101_11ec_88ed_f01dbc950f68row1_col0\" class=\"data row1 col0\" >-0.372282</td>\n",
       "                        <td id=\"T_836fd8f6_c101_11ec_88ed_f01dbc950f68row1_col1\" class=\"data row1 col1\" >1.000000</td>\n",
       "                        <td id=\"T_836fd8f6_c101_11ec_88ed_f01dbc950f68row1_col2\" class=\"data row1 col2\" >-0.028954</td>\n",
       "                        <td id=\"T_836fd8f6_c101_11ec_88ed_f01dbc950f68row1_col3\" class=\"data row1 col3\" >-0.281619</td>\n",
       "                        <td id=\"T_836fd8f6_c101_11ec_88ed_f01dbc950f68row1_col4\" class=\"data row1 col4\" >0.194780</td>\n",
       "                        <td id=\"T_836fd8f6_c101_11ec_88ed_f01dbc950f68row1_col5\" class=\"data row1 col5\" >-0.019991</td>\n",
       "                        <td id=\"T_836fd8f6_c101_11ec_88ed_f01dbc950f68row1_col6\" class=\"data row1 col6\" >0.072204</td>\n",
       "                        <td id=\"T_836fd8f6_c101_11ec_88ed_f01dbc950f68row1_col7\" class=\"data row1 col7\" >-0.026310</td>\n",
       "                        <td id=\"T_836fd8f6_c101_11ec_88ed_f01dbc950f68row1_col8\" class=\"data row1 col8\" >-0.013841</td>\n",
       "            </tr>\n",
       "            <tr>\n",
       "                        <th id=\"T_836fd8f6_c101_11ec_88ed_f01dbc950f68level0_row2\" class=\"row_heading level0 row2\" >danceability</th>\n",
       "                        <td id=\"T_836fd8f6_c101_11ec_88ed_f01dbc950f68row2_col0\" class=\"data row2 col0\" >0.049454</td>\n",
       "                        <td id=\"T_836fd8f6_c101_11ec_88ed_f01dbc950f68row2_col1\" class=\"data row2 col1\" >-0.028954</td>\n",
       "                        <td id=\"T_836fd8f6_c101_11ec_88ed_f01dbc950f68row2_col2\" class=\"data row2 col2\" >1.000000</td>\n",
       "                        <td id=\"T_836fd8f6_c101_11ec_88ed_f01dbc950f68row2_col3\" class=\"data row2 col3\" >-0.242032</td>\n",
       "                        <td id=\"T_836fd8f6_c101_11ec_88ed_f01dbc950f68row2_col4\" class=\"data row2 col4\" >-0.255217</td>\n",
       "                        <td id=\"T_836fd8f6_c101_11ec_88ed_f01dbc950f68row2_col5\" class=\"data row2 col5\" >-0.106584</td>\n",
       "                        <td id=\"T_836fd8f6_c101_11ec_88ed_f01dbc950f68row2_col6\" class=\"data row2 col6\" >0.276206</td>\n",
       "                        <td id=\"T_836fd8f6_c101_11ec_88ed_f01dbc950f68row2_col7\" class=\"data row2 col7\" >-0.242089</td>\n",
       "                        <td id=\"T_836fd8f6_c101_11ec_88ed_f01dbc950f68row2_col8\" class=\"data row2 col8\" >0.473165</td>\n",
       "            </tr>\n",
       "            <tr>\n",
       "                        <th id=\"T_836fd8f6_c101_11ec_88ed_f01dbc950f68level0_row3\" class=\"row_heading level0 row3\" >energy</th>\n",
       "                        <td id=\"T_836fd8f6_c101_11ec_88ed_f01dbc950f68row3_col0\" class=\"data row3 col0\" >0.140703</td>\n",
       "                        <td id=\"T_836fd8f6_c101_11ec_88ed_f01dbc950f68row3_col1\" class=\"data row3 col1\" >-0.281619</td>\n",
       "                        <td id=\"T_836fd8f6_c101_11ec_88ed_f01dbc950f68row3_col2\" class=\"data row3 col2\" >-0.242032</td>\n",
       "                        <td id=\"T_836fd8f6_c101_11ec_88ed_f01dbc950f68row3_col3\" class=\"data row3 col3\" >1.000000</td>\n",
       "                        <td id=\"T_836fd8f6_c101_11ec_88ed_f01dbc950f68row3_col4\" class=\"data row3 col4\" >0.028238</td>\n",
       "                        <td id=\"T_836fd8f6_c101_11ec_88ed_f01dbc950f68row3_col5\" class=\"data row3 col5\" >0.113331</td>\n",
       "                        <td id=\"T_836fd8f6_c101_11ec_88ed_f01dbc950f68row3_col6\" class=\"data row3 col6\" >-0.109983</td>\n",
       "                        <td id=\"T_836fd8f6_c101_11ec_88ed_f01dbc950f68row3_col7\" class=\"data row3 col7\" >0.195227</td>\n",
       "                        <td id=\"T_836fd8f6_c101_11ec_88ed_f01dbc950f68row3_col8\" class=\"data row3 col8\" >0.038603</td>\n",
       "            </tr>\n",
       "            <tr>\n",
       "                        <th id=\"T_836fd8f6_c101_11ec_88ed_f01dbc950f68level0_row4\" class=\"row_heading level0 row4\" >instrumentalness</th>\n",
       "                        <td id=\"T_836fd8f6_c101_11ec_88ed_f01dbc950f68row4_col0\" class=\"data row4 col0\" >-0.275623</td>\n",
       "                        <td id=\"T_836fd8f6_c101_11ec_88ed_f01dbc950f68row4_col1\" class=\"data row4 col1\" >0.194780</td>\n",
       "                        <td id=\"T_836fd8f6_c101_11ec_88ed_f01dbc950f68row4_col2\" class=\"data row4 col2\" >-0.255217</td>\n",
       "                        <td id=\"T_836fd8f6_c101_11ec_88ed_f01dbc950f68row4_col3\" class=\"data row4 col3\" >0.028238</td>\n",
       "                        <td id=\"T_836fd8f6_c101_11ec_88ed_f01dbc950f68row4_col4\" class=\"data row4 col4\" >1.000000</td>\n",
       "                        <td id=\"T_836fd8f6_c101_11ec_88ed_f01dbc950f68row4_col5\" class=\"data row4 col5\" >-0.091022</td>\n",
       "                        <td id=\"T_836fd8f6_c101_11ec_88ed_f01dbc950f68row4_col6\" class=\"data row4 col6\" >-0.366762</td>\n",
       "                        <td id=\"T_836fd8f6_c101_11ec_88ed_f01dbc950f68row4_col7\" class=\"data row4 col7\" >0.022215</td>\n",
       "                        <td id=\"T_836fd8f6_c101_11ec_88ed_f01dbc950f68row4_col8\" class=\"data row4 col8\" >-0.219967</td>\n",
       "            </tr>\n",
       "            <tr>\n",
       "                        <th id=\"T_836fd8f6_c101_11ec_88ed_f01dbc950f68level0_row5\" class=\"row_heading level0 row5\" >liveness</th>\n",
       "                        <td id=\"T_836fd8f6_c101_11ec_88ed_f01dbc950f68row5_col0\" class=\"data row5 col0\" >0.048231</td>\n",
       "                        <td id=\"T_836fd8f6_c101_11ec_88ed_f01dbc950f68row5_col1\" class=\"data row5 col1\" >-0.019991</td>\n",
       "                        <td id=\"T_836fd8f6_c101_11ec_88ed_f01dbc950f68row5_col2\" class=\"data row5 col2\" >-0.106584</td>\n",
       "                        <td id=\"T_836fd8f6_c101_11ec_88ed_f01dbc950f68row5_col3\" class=\"data row5 col3\" >0.113331</td>\n",
       "                        <td id=\"T_836fd8f6_c101_11ec_88ed_f01dbc950f68row5_col4\" class=\"data row5 col4\" >-0.091022</td>\n",
       "                        <td id=\"T_836fd8f6_c101_11ec_88ed_f01dbc950f68row5_col5\" class=\"data row5 col5\" >1.000000</td>\n",
       "                        <td id=\"T_836fd8f6_c101_11ec_88ed_f01dbc950f68row5_col6\" class=\"data row5 col6\" >0.041173</td>\n",
       "                        <td id=\"T_836fd8f6_c101_11ec_88ed_f01dbc950f68row5_col7\" class=\"data row5 col7\" >0.002732</td>\n",
       "                        <td id=\"T_836fd8f6_c101_11ec_88ed_f01dbc950f68row5_col8\" class=\"data row5 col8\" >-0.045093</td>\n",
       "            </tr>\n",
       "            <tr>\n",
       "                        <th id=\"T_836fd8f6_c101_11ec_88ed_f01dbc950f68level0_row6\" class=\"row_heading level0 row6\" >speechiness</th>\n",
       "                        <td id=\"T_836fd8f6_c101_11ec_88ed_f01dbc950f68row6_col0\" class=\"data row6 col0\" >-0.026995</td>\n",
       "                        <td id=\"T_836fd8f6_c101_11ec_88ed_f01dbc950f68row6_col1\" class=\"data row6 col1\" >0.072204</td>\n",
       "                        <td id=\"T_836fd8f6_c101_11ec_88ed_f01dbc950f68row6_col2\" class=\"data row6 col2\" >0.276206</td>\n",
       "                        <td id=\"T_836fd8f6_c101_11ec_88ed_f01dbc950f68row6_col3\" class=\"data row6 col3\" >-0.109983</td>\n",
       "                        <td id=\"T_836fd8f6_c101_11ec_88ed_f01dbc950f68row6_col4\" class=\"data row6 col4\" >-0.366762</td>\n",
       "                        <td id=\"T_836fd8f6_c101_11ec_88ed_f01dbc950f68row6_col5\" class=\"data row6 col5\" >0.041173</td>\n",
       "                        <td id=\"T_836fd8f6_c101_11ec_88ed_f01dbc950f68row6_col6\" class=\"data row6 col6\" >1.000000</td>\n",
       "                        <td id=\"T_836fd8f6_c101_11ec_88ed_f01dbc950f68row6_col7\" class=\"data row6 col7\" >0.008241</td>\n",
       "                        <td id=\"T_836fd8f6_c101_11ec_88ed_f01dbc950f68row6_col8\" class=\"data row6 col8\" >0.149894</td>\n",
       "            </tr>\n",
       "            <tr>\n",
       "                        <th id=\"T_836fd8f6_c101_11ec_88ed_f01dbc950f68level0_row7\" class=\"row_heading level0 row7\" >tempo</th>\n",
       "                        <td id=\"T_836fd8f6_c101_11ec_88ed_f01dbc950f68row7_col0\" class=\"data row7 col0\" >-0.025392</td>\n",
       "                        <td id=\"T_836fd8f6_c101_11ec_88ed_f01dbc950f68row7_col1\" class=\"data row7 col1\" >-0.026310</td>\n",
       "                        <td id=\"T_836fd8f6_c101_11ec_88ed_f01dbc950f68row7_col2\" class=\"data row7 col2\" >-0.242089</td>\n",
       "                        <td id=\"T_836fd8f6_c101_11ec_88ed_f01dbc950f68row7_col3\" class=\"data row7 col3\" >0.195227</td>\n",
       "                        <td id=\"T_836fd8f6_c101_11ec_88ed_f01dbc950f68row7_col4\" class=\"data row7 col4\" >0.022215</td>\n",
       "                        <td id=\"T_836fd8f6_c101_11ec_88ed_f01dbc950f68row7_col5\" class=\"data row7 col5\" >0.002732</td>\n",
       "                        <td id=\"T_836fd8f6_c101_11ec_88ed_f01dbc950f68row7_col6\" class=\"data row7 col6\" >0.008241</td>\n",
       "                        <td id=\"T_836fd8f6_c101_11ec_88ed_f01dbc950f68row7_col7\" class=\"data row7 col7\" >1.000000</td>\n",
       "                        <td id=\"T_836fd8f6_c101_11ec_88ed_f01dbc950f68row7_col8\" class=\"data row7 col8\" >0.052221</td>\n",
       "            </tr>\n",
       "            <tr>\n",
       "                        <th id=\"T_836fd8f6_c101_11ec_88ed_f01dbc950f68level0_row8\" class=\"row_heading level0 row8\" >valence</th>\n",
       "                        <td id=\"T_836fd8f6_c101_11ec_88ed_f01dbc950f68row8_col0\" class=\"data row8 col0\" >0.010070</td>\n",
       "                        <td id=\"T_836fd8f6_c101_11ec_88ed_f01dbc950f68row8_col1\" class=\"data row8 col1\" >-0.013841</td>\n",
       "                        <td id=\"T_836fd8f6_c101_11ec_88ed_f01dbc950f68row8_col2\" class=\"data row8 col2\" >0.473165</td>\n",
       "                        <td id=\"T_836fd8f6_c101_11ec_88ed_f01dbc950f68row8_col3\" class=\"data row8 col3\" >0.038603</td>\n",
       "                        <td id=\"T_836fd8f6_c101_11ec_88ed_f01dbc950f68row8_col4\" class=\"data row8 col4\" >-0.219967</td>\n",
       "                        <td id=\"T_836fd8f6_c101_11ec_88ed_f01dbc950f68row8_col5\" class=\"data row8 col5\" >-0.045093</td>\n",
       "                        <td id=\"T_836fd8f6_c101_11ec_88ed_f01dbc950f68row8_col6\" class=\"data row8 col6\" >0.149894</td>\n",
       "                        <td id=\"T_836fd8f6_c101_11ec_88ed_f01dbc950f68row8_col7\" class=\"data row8 col7\" >0.052221</td>\n",
       "                        <td id=\"T_836fd8f6_c101_11ec_88ed_f01dbc950f68row8_col8\" class=\"data row8 col8\" >1.000000</td>\n",
       "            </tr>\n",
       "    </tbody></table>"
      ],
      "text/plain": [
       "<pandas.io.formats.style.Styler at 0x1e136b63430>"
      ]
     },
     "execution_count": 30,
     "metadata": {},
     "output_type": "execute_result"
    }
   ],
   "source": [
    "# correlation matrix to see which features correlate most\n",
    "# nothing more than .50 so none\n",
    "\n",
    "correlation = echotracks.corr()\n",
    "correlation.style.background_gradient()"
   ]
  },
  {
   "cell_type": "markdown",
   "metadata": {},
   "source": [
    "**Normalize Feature Data** - Processing the data"
   ]
  },
  {
   "cell_type": "code",
   "execution_count": 34,
   "metadata": {},
   "outputs": [],
   "source": [
    "# define features\n",
    "\n",
    "features = echotracks.drop(['track_id', 'genre_top'], axis=1)"
   ]
  },
  {
   "cell_type": "code",
   "execution_count": 35,
   "metadata": {},
   "outputs": [],
   "source": [
    "# define labels\n",
    "\n",
    "labels = echotracks['genre_top']"
   ]
  },
  {
   "cell_type": "code",
   "execution_count": 36,
   "metadata": {},
   "outputs": [],
   "source": [
    "# where you use sklearn.preprocessing - StandardScaler\n",
    "# scale features & set values to a new variable\n",
    "# fit_transform - fit to data then transforms it\n",
    "\n",
    "scaler = StandardScaler()\n",
    "scaledtrain_features = scaler.fit_transform(features)"
   ]
  },
  {
   "cell_type": "markdown",
   "metadata": {},
   "source": [
    "**PCA, Principal Component Analysis**\n",
    "\n",
    "To find # features to use further"
   ]
  },
  {
   "cell_type": "markdown",
   "metadata": {},
   "source": [
    "**Scree-plot**"
   ]
  },
  {
   "cell_type": "code",
   "execution_count": 38,
   "metadata": {},
   "outputs": [],
   "source": [
    "# where using matplotlib, sklearn.decomposition-PCA\n",
    "# find explained variance ratios from PCA using all features\n",
    "\n",
    "pca = PCA()\n",
    "pca.fit(scaledtrain_features)\n",
    "exp_variance = pca.explained_variance_ratio_"
   ]
  },
  {
   "cell_type": "code",
   "execution_count": 39,
   "metadata": {
    "collapsed": true
   },
   "outputs": [
    {
     "data": {
      "text/plain": [
       "<BarContainer object of 8 artists>"
      ]
     },
     "execution_count": 39,
     "metadata": {},
     "output_type": "execute_result"
    },
    {
     "data": {
      "image/png": "[encoded data removed]",
      "text/plain": [
       "<Figure size 432x288 with 1 Axes>"
      ]
     },
     "metadata": {
      "needs_background": "light"
     },
     "output_type": "display_data"
    }
   ],
   "source": [
    "# plot the variance\n",
    "\n",
    "fig, ax = plt.subplots()\n",
    "plt.xlabel('Artists')\n",
    "plt.ylabel('Explained Variance')\n",
    "ax.bar(range(pca.n_components_), exp_variance)"
   ]
  },
  {
   "cell_type": "markdown",
   "metadata": {},
   "source": [
    "**Cumulative Explained Variance Plot**\n",
    "\n",
    "To find # features with 90% variance (can change). Once right # features, perform PCA."
   ]
  },
  {
   "cell_type": "code",
   "execution_count": 40,
   "metadata": {},
   "outputs": [],
   "source": [
    "# where using numpy\n",
    "# calc CEV\n",
    "\n",
    "cum_exp_variance = np.cumsum(exp_variance)"
   ]
  },
  {
   "cell_type": "code",
   "execution_count": 43,
   "metadata": {
    "collapsed": true
   },
   "outputs": [
    {
     "data": {
      "image/png": "[encoded data removed]",
      "text/plain": [
       "<Figure size 432x288 with 1 Axes>"
      ]
     },
     "metadata": {
      "needs_background": "light"
     },
     "output_type": "display_data"
    }
   ],
   "source": [
    "# plot CEV + draw dashed line at .90\n",
    "\n",
    "fig, ax = plt.subplots()\n",
    "ax.plot(range(8), cum_exp_variance)\n",
    "ax.axhline(y=.9, linestyle='--')\n",
    "n_components = 6"
   ]
  },
  {
   "cell_type": "markdown",
   "metadata": {},
   "source": [
    "**PCA w new info**"
   ]
  },
  {
   "cell_type": "code",
   "execution_count": 44,
   "metadata": {},
   "outputs": [],
   "source": [
    "# PCA w chosen n_components & project data\n",
    "\n",
    "pcal = PCA(n_components)\n",
    "pcal.fit(scaledtrain_features)\n",
    "projection = pcal.transform(scaledtrain_features)"
   ]
  },
  {
   "cell_type": "markdown",
   "metadata": {},
   "source": [
    "NOTES:\n",
    "\n",
    "I don't exactly understand how the above has 'reduced the dimensions' of the dataset"
   ]
  },
  {
   "cell_type": "markdown",
   "metadata": {},
   "source": [
    "**Train Decision Tree to Classify Genre**"
   ]
  },
  {
   "cell_type": "code",
   "execution_count": 45,
   "metadata": {},
   "outputs": [],
   "source": [
    "# where using sklearn.model_selection, sklearn.tree\n",
    "# split data\n",
    "\n",
    "train_fts, test_fts, train_labels, test_labels = train_test_split(projection, labels)"
   ]
  },
  {
   "cell_type": "code",
   "execution_count": 48,
   "metadata": {
    "collapsed": true
   },
   "outputs": [
    {
     "data": {
      "text/plain": [
       "DecisionTreeClassifier(random_state=10)"
      ]
     },
     "execution_count": 48,
     "metadata": {},
     "output_type": "execute_result"
    }
   ],
   "source": [
    "# train Decision Tree\n",
    "# to obtain deterministic behavior during fitting, random_state has to be a fixed integer\n",
    "\n",
    "tree = DecisionTreeClassifier(random_state=10)\n",
    "tree.fit(train_fts, train_labels)"
   ]
  },
  {
   "cell_type": "code",
   "execution_count": 50,
   "metadata": {
    "collapsed": true
   },
   "outputs": [
    {
     "name": "stdout",
     "output_type": "stream",
     "text": [
      "['Hip-Hop' 'Hip-Hop' 'Rock' ... 'Rock' 'Hip-Hop' 'Rock']\n"
     ]
    }
   ],
   "source": [
    "# predict labels for test data\n",
    "\n",
    "predlabels_tree = tree.predict(test_fts)\n",
    "print(predlabels_tree)"
   ]
  },
  {
   "cell_type": "markdown",
   "metadata": {},
   "source": [
    "**Compare Decision Tree to Logistic Regression**"
   ]
  },
  {
   "cell_type": "markdown",
   "metadata": {},
   "source": [
    "**Train Logistic Regression to Classify Genre**"
   ]
  },
  {
   "cell_type": "code",
   "execution_count": 51,
   "metadata": {
    "collapsed": true
   },
   "outputs": [
    {
     "data": {
      "text/plain": [
       "LogisticRegression()"
      ]
     },
     "execution_count": 51,
     "metadata": {},
     "output_type": "execute_result"
    }
   ],
   "source": [
    "# where using sklearn.linear_model\n",
    "# train logistic Regression\n",
    "\n",
    "logreg = LogisticRegression()\n",
    "logreg.fit(train_fts, train_labels)"
   ]
  },
  {
   "cell_type": "code",
   "execution_count": 53,
   "metadata": {
    "collapsed": true
   },
   "outputs": [
    {
     "name": "stdout",
     "output_type": "stream",
     "text": [
      "['Hip-Hop' 'Rock' 'Rock' ... 'Rock' 'Rock' 'Rock']\n"
     ]
    }
   ],
   "source": [
    "predlabels_logreg = logreg.predict(test_fts)\n",
    "print(predlabels_logreg)"
   ]
  },
  {
   "cell_type": "code",
   "execution_count": 54,
   "metadata": {},
   "outputs": [],
   "source": [
    "#where using sklearn.metrics-classification_report\n",
    "# create classification report for both models\n",
    "\n",
    "classreport_tree = classification_report(test_labels, predlabels_tree)\n",
    "classreport_log = classification_report(test_labels, predlabels_logreg)"
   ]
  },
  {
   "cell_type": "code",
   "execution_count": 55,
   "metadata": {
    "collapsed": true
   },
   "outputs": [
    {
     "name": "stdout",
     "output_type": "stream",
     "text": [
      "Decision Tree: \n",
      "               precision    recall  f1-score   support\n",
      "\n",
      "     Hip-Hop       0.61      0.62      0.61       227\n",
      "        Rock       0.91      0.91      0.91       974\n",
      "\n",
      "    accuracy                           0.85      1201\n",
      "   macro avg       0.76      0.76      0.76      1201\n",
      "weighted avg       0.85      0.85      0.85      1201\n",
      "\n",
      "Logistic Regression: \n",
      "               precision    recall  f1-score   support\n",
      "\n",
      "     Hip-Hop       0.80      0.50      0.62       227\n",
      "        Rock       0.89      0.97      0.93       974\n",
      "\n",
      "    accuracy                           0.88      1201\n",
      "   macro avg       0.85      0.74      0.77      1201\n",
      "weighted avg       0.88      0.88      0.87      1201\n",
      "\n"
     ]
    }
   ],
   "source": [
    "print(\"Decision Tree: \\n\", classreport_tree)\n",
    "print(\"Logistic Regression: \\n\", classreport_log)"
   ]
  },
  {
   "cell_type": "markdown",
   "metadata": {},
   "source": [
    "Both have about 87% precision (accuracy). HipHip more miss-classified than Rock."
   ]
  },
  {
   "cell_type": "markdown",
   "metadata": {},
   "source": [
    "**Balance Data for Greater Performance**\n",
    "\n",
    "Weight value of a correct classification in each class inversely to the occurance of data points for each class. Account for differences in sample size."
   ]
  },
  {
   "cell_type": "code",
   "execution_count": 56,
   "metadata": {},
   "outputs": [],
   "source": [
    "# subset hiphop & rock separately\n",
    "\n",
    "rockonly = echotracks.loc[echotracks['genre_top']=='Rock']\n",
    "hiponly = echotracks.loc[echotracks['genre_top']=='Hip-Hop']"
   ]
  },
  {
   "cell_type": "code",
   "execution_count": 59,
   "metadata": {},
   "outputs": [],
   "source": [
    "# rock sample should be same # as hiphop sample\n",
    "\n",
    "rockonly = rockonly.sample(len(hiponly), random_state=10)"
   ]
  },
  {
   "cell_type": "code",
   "execution_count": 60,
   "metadata": {},
   "outputs": [],
   "source": [
    "# concat (merge) rockonly & hiponly DFs\n",
    "\n",
    "rockhopbal = pd.concat([hiponly, rockonly])"
   ]
  },
  {
   "cell_type": "code",
   "execution_count": 61,
   "metadata": {},
   "outputs": [],
   "source": [
    "# re-define train & test data\n",
    "\n",
    "features, labels = rockhopbal.drop(['genre_top', 'track_id'], axis=1), rockhopbal['genre_top']\n",
    "train_fts, test_fts, train_labels, test_labels = train_test_split(features, labels, random_state=10)"
   ]
  },
  {
   "cell_type": "markdown",
   "metadata": {},
   "source": [
    "**Confirm If Balancing Dataset Improves Model Bias**"
   ]
  },
  {
   "cell_type": "code",
   "execution_count": 62,
   "metadata": {},
   "outputs": [
    {
     "data": {
      "text/plain": [
       "DecisionTreeClassifier(random_state=10)"
      ]
     },
     "execution_count": 62,
     "metadata": {},
     "output_type": "execute_result"
    }
   ],
   "source": [
    "# train Decision Tree on balanced data\n",
    "\n",
    "tree = DecisionTreeClassifier(random_state=10)\n",
    "tree.fit(train_fts, train_labels)"
   ]
  },
  {
   "cell_type": "code",
   "execution_count": 63,
   "metadata": {},
   "outputs": [],
   "source": [
    "# predict labels for test data\n",
    "\n",
    "predlabels_tree = tree.predict(test_fts)"
   ]
  },
  {
   "cell_type": "code",
   "execution_count": 64,
   "metadata": {
    "collapsed": true
   },
   "outputs": [
    {
     "name": "stderr",
     "output_type": "stream",
     "text": [
      "C:\\Users\\Haven\\anaconda3\\lib\\site-packages\\sklearn\\linear_model\\_logistic.py:762: ConvergenceWarning: lbfgs failed to converge (status=1):\n",
      "STOP: TOTAL NO. of ITERATIONS REACHED LIMIT.\n",
      "\n",
      "Increase the number of iterations (max_iter) or scale the data as shown in:\n",
      "    https://scikit-learn.org/stable/modules/preprocessing.html\n",
      "Please also refer to the documentation for alternative solver options:\n",
      "    https://scikit-learn.org/stable/modules/linear_model.html#logistic-regression\n",
      "  n_iter_i = _check_optimize_result(\n"
     ]
    },
    {
     "data": {
      "text/plain": [
       "LogisticRegression(random_state=10)"
      ]
     },
     "execution_count": 64,
     "metadata": {},
     "output_type": "execute_result"
    }
   ],
   "source": [
    "# train Logistic Regression with balanced data\n",
    "\n",
    "logreg = LogisticRegression(random_state=10)\n",
    "logreg.fit(train_fts, train_labels)"
   ]
  },
  {
   "cell_type": "code",
   "execution_count": 65,
   "metadata": {},
   "outputs": [],
   "source": [
    "# predict labels for test data\n",
    "\n",
    "predlabels_log = logreg.predict(test_fts)"
   ]
  },
  {
   "cell_type": "code",
   "execution_count": 66,
   "metadata": {
    "collapsed": true
   },
   "outputs": [
    {
     "name": "stdout",
     "output_type": "stream",
     "text": [
      "Decision Tree: \n",
      "               precision    recall  f1-score   support\n",
      "\n",
      "     Hip-Hop       0.85      0.83      0.84       225\n",
      "        Rock       0.84      0.86      0.85       230\n",
      "\n",
      "    accuracy                           0.84       455\n",
      "   macro avg       0.84      0.84      0.84       455\n",
      "weighted avg       0.84      0.84      0.84       455\n",
      "\n",
      "Logistic Regression: \n",
      "               precision    recall  f1-score   support\n",
      "\n",
      "     Hip-Hop       0.85      0.84      0.84       225\n",
      "        Rock       0.84      0.85      0.85       230\n",
      "\n",
      "    accuracy                           0.85       455\n",
      "   macro avg       0.85      0.85      0.85       455\n",
      "weighted avg       0.85      0.85      0.85       455\n",
      "\n"
     ]
    }
   ],
   "source": [
    "# compare models using classification report\n",
    "\n",
    "print(\"Decision Tree: \\n\", classification_report(test_labels, predlabels_tree))\n",
    "print(\"Logistic Regression: \\n\", classification_report(test_labels, predlabels_log))"
   ]
  },
  {
   "cell_type": "markdown",
   "metadata": {},
   "source": [
    "**Cross Validation to Evaluation Models**\n",
    "\n",
    "using **KFold Cross Validation**"
   ]
  },
  {
   "cell_type": "code",
   "execution_count": 67,
   "metadata": {
    "collapsed": true
   },
   "outputs": [
    {
     "name": "stderr",
     "output_type": "stream",
     "text": [
      "C:\\Users\\Haven\\anaconda3\\lib\\site-packages\\sklearn\\model_selection\\_split.py:293: FutureWarning: Setting a random_state has no effect since shuffle is False. This will raise an error in 0.24. You should leave random_state to its default (None), or set shuffle=True.\n",
      "  warnings.warn(\n"
     ]
    }
   ],
   "source": [
    "# where using sklearn.model_selection\n",
    "# set up K-Fold Cross-Val\n",
    "\n",
    "kf =KFold(n_splits=10, random_state=10)"
   ]
  },
  {
   "cell_type": "code",
   "execution_count": 68,
   "metadata": {
    "collapsed": true
   },
   "outputs": [
    {
     "name": "stderr",
     "output_type": "stream",
     "text": [
      "C:\\Users\\Haven\\anaconda3\\lib\\site-packages\\sklearn\\linear_model\\_logistic.py:762: ConvergenceWarning: lbfgs failed to converge (status=1):\n",
      "STOP: TOTAL NO. of ITERATIONS REACHED LIMIT.\n",
      "\n",
      "Increase the number of iterations (max_iter) or scale the data as shown in:\n",
      "    https://scikit-learn.org/stable/modules/preprocessing.html\n",
      "Please also refer to the documentation for alternative solver options:\n",
      "    https://scikit-learn.org/stable/modules/linear_model.html#logistic-regression\n",
      "  n_iter_i = _check_optimize_result(\n",
      "C:\\Users\\Haven\\anaconda3\\lib\\site-packages\\sklearn\\linear_model\\_logistic.py:762: ConvergenceWarning: lbfgs failed to converge (status=1):\n",
      "STOP: TOTAL NO. of ITERATIONS REACHED LIMIT.\n",
      "\n",
      "Increase the number of iterations (max_iter) or scale the data as shown in:\n",
      "    https://scikit-learn.org/stable/modules/preprocessing.html\n",
      "Please also refer to the documentation for alternative solver options:\n",
      "    https://scikit-learn.org/stable/modules/linear_model.html#logistic-regression\n",
      "  n_iter_i = _check_optimize_result(\n",
      "C:\\Users\\Haven\\anaconda3\\lib\\site-packages\\sklearn\\linear_model\\_logistic.py:762: ConvergenceWarning: lbfgs failed to converge (status=1):\n",
      "STOP: TOTAL NO. of ITERATIONS REACHED LIMIT.\n",
      "\n",
      "Increase the number of iterations (max_iter) or scale the data as shown in:\n",
      "    https://scikit-learn.org/stable/modules/preprocessing.html\n",
      "Please also refer to the documentation for alternative solver options:\n",
      "    https://scikit-learn.org/stable/modules/linear_model.html#logistic-regression\n",
      "  n_iter_i = _check_optimize_result(\n",
      "C:\\Users\\Haven\\anaconda3\\lib\\site-packages\\sklearn\\linear_model\\_logistic.py:762: ConvergenceWarning: lbfgs failed to converge (status=1):\n",
      "STOP: TOTAL NO. of ITERATIONS REACHED LIMIT.\n",
      "\n",
      "Increase the number of iterations (max_iter) or scale the data as shown in:\n",
      "    https://scikit-learn.org/stable/modules/preprocessing.html\n",
      "Please also refer to the documentation for alternative solver options:\n",
      "    https://scikit-learn.org/stable/modules/linear_model.html#logistic-regression\n",
      "  n_iter_i = _check_optimize_result(\n",
      "C:\\Users\\Haven\\anaconda3\\lib\\site-packages\\sklearn\\linear_model\\_logistic.py:762: ConvergenceWarning: lbfgs failed to converge (status=1):\n",
      "STOP: TOTAL NO. of ITERATIONS REACHED LIMIT.\n",
      "\n",
      "Increase the number of iterations (max_iter) or scale the data as shown in:\n",
      "    https://scikit-learn.org/stable/modules/preprocessing.html\n",
      "Please also refer to the documentation for alternative solver options:\n",
      "    https://scikit-learn.org/stable/modules/linear_model.html#logistic-regression\n",
      "  n_iter_i = _check_optimize_result(\n",
      "C:\\Users\\Haven\\anaconda3\\lib\\site-packages\\sklearn\\linear_model\\_logistic.py:762: ConvergenceWarning: lbfgs failed to converge (status=1):\n",
      "STOP: TOTAL NO. of ITERATIONS REACHED LIMIT.\n",
      "\n",
      "Increase the number of iterations (max_iter) or scale the data as shown in:\n",
      "    https://scikit-learn.org/stable/modules/preprocessing.html\n",
      "Please also refer to the documentation for alternative solver options:\n",
      "    https://scikit-learn.org/stable/modules/linear_model.html#logistic-regression\n",
      "  n_iter_i = _check_optimize_result(\n",
      "C:\\Users\\Haven\\anaconda3\\lib\\site-packages\\sklearn\\linear_model\\_logistic.py:762: ConvergenceWarning: lbfgs failed to converge (status=1):\n",
      "STOP: TOTAL NO. of ITERATIONS REACHED LIMIT.\n",
      "\n",
      "Increase the number of iterations (max_iter) or scale the data as shown in:\n",
      "    https://scikit-learn.org/stable/modules/preprocessing.html\n",
      "Please also refer to the documentation for alternative solver options:\n",
      "    https://scikit-learn.org/stable/modules/linear_model.html#logistic-regression\n",
      "  n_iter_i = _check_optimize_result(\n",
      "C:\\Users\\Haven\\anaconda3\\lib\\site-packages\\sklearn\\linear_model\\_logistic.py:762: ConvergenceWarning: lbfgs failed to converge (status=1):\n",
      "STOP: TOTAL NO. of ITERATIONS REACHED LIMIT.\n",
      "\n",
      "Increase the number of iterations (max_iter) or scale the data as shown in:\n",
      "    https://scikit-learn.org/stable/modules/preprocessing.html\n",
      "Please also refer to the documentation for alternative solver options:\n",
      "    https://scikit-learn.org/stable/modules/linear_model.html#logistic-regression\n",
      "  n_iter_i = _check_optimize_result(\n",
      "C:\\Users\\Haven\\anaconda3\\lib\\site-packages\\sklearn\\linear_model\\_logistic.py:762: ConvergenceWarning: lbfgs failed to converge (status=1):\n",
      "STOP: TOTAL NO. of ITERATIONS REACHED LIMIT.\n",
      "\n",
      "Increase the number of iterations (max_iter) or scale the data as shown in:\n",
      "    https://scikit-learn.org/stable/modules/preprocessing.html\n",
      "Please also refer to the documentation for alternative solver options:\n",
      "    https://scikit-learn.org/stable/modules/linear_model.html#logistic-regression\n",
      "  n_iter_i = _check_optimize_result(\n",
      "C:\\Users\\Haven\\anaconda3\\lib\\site-packages\\sklearn\\linear_model\\_logistic.py:762: ConvergenceWarning: lbfgs failed to converge (status=1):\n",
      "STOP: TOTAL NO. of ITERATIONS REACHED LIMIT.\n",
      "\n",
      "Increase the number of iterations (max_iter) or scale the data as shown in:\n",
      "    https://scikit-learn.org/stable/modules/preprocessing.html\n",
      "Please also refer to the documentation for alternative solver options:\n",
      "    https://scikit-learn.org/stable/modules/linear_model.html#logistic-regression\n",
      "  n_iter_i = _check_optimize_result(\n"
     ]
    }
   ],
   "source": [
    "# train models using KF C-V\n",
    "\n",
    "treescore = cross_val_score(tree, features, labels, cv=kf)\n",
    "logscore = cross_val_score(logreg, features, labels, cv=kf)"
   ]
  },
  {
   "cell_type": "code",
   "execution_count": 74,
   "metadata": {
    "collapsed": true
   },
   "outputs": [
    {
     "name": "stdout",
     "output_type": "stream",
     "text": [
      " Decision Tree:  0.8274725274725274 \n",
      " Logistic Regression:  0.8104395604395606\n"
     ]
    }
   ],
   "source": [
    "# print mean of each array of scores\n",
    "\n",
    "print(\" Decision Tree: \", np.mean(treescore), \"\\n\", \"Logistic Regression: \", np.mean(logscore))"
   ]
  }
 ],
 "metadata": {
  "kernelspec": {
   "display_name": "Python 3",
   "language": "python",
   "name": "python3"
  },
  "language_info": {
   "codemirror_mode": {
    "name": "ipython",
    "version": 3
   },
   "file_extension": ".py",
   "mimetype": "text/x-python",
   "name": "python",
   "nbconvert_exporter": "python",
   "pygments_lexer": "ipython3",
   "version": "3.8.3"
  }
 },
 "nbformat": 4,
 "nbformat_minor": 4
}
